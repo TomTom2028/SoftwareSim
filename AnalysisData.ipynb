{
 "cells": [
  {
   "cell_type": "code",
   "execution_count": 1,
   "metadata": {},
   "outputs": [
    {
     "name": "stdout",
     "output_type": "stream",
     "text": [
      "   Inventory Trans Number  Assc Inventory Trans Number  Task number  \\\n",
      "0               113973204                          NaN     14269689   \n",
      "1               113973205                  113973204.0     14269689   \n",
      "2               113973245                          NaN     14266917   \n",
      "3               113973246                  113973245.0     14266917   \n",
      "4               113973273                          NaN     14269161   \n",
      "\n",
      "   Sequence number             Creation Dt          Last Change Dt  \\\n",
      "0                1 2025-01-01 06:05:45.887 2025-01-01 06:05:45.887   \n",
      "1                1 2025-01-01 06:05:45.893 2025-01-01 06:05:45.910   \n",
      "2                1 2025-01-01 06:06:16.370 2025-01-01 06:06:16.370   \n",
      "3                1 2025-01-01 06:06:16.387 2025-01-01 06:06:16.397   \n",
      "4                1 2025-01-01 06:06:37.050 2025-01-01 06:06:37.050   \n",
      "\n",
      "   Requester user code    Out in Location code Parent container code  \\\n",
      "0                    0  Outgoing         VJ45D                 99300   \n",
      "1                    0  Incoming       VAK11E4               VAK11E4   \n",
      "2                    0  Outgoing         VK17B                 82440   \n",
      "3                    0  Incoming       VAK11C3               VAK11C3   \n",
      "4                    0  Outgoing         VM20D                 25067   \n",
      "\n",
      "   Item code  Stock Product Id Handling unit code  Inventory Qty  \\\n",
      "0      25769          144759.0                 ST              1   \n",
      "1      25769          144759.0                 ST              1   \n",
      "2        933          461357.0                 ST              1   \n",
      "3        933          461357.0                 ST              1   \n",
      "4       7378          592521.0                 ST              1   \n",
      "\n",
      "   Reference Trans Number  Outbound order number  Outbound Order Line Number  \\\n",
      "0                     NaN              1172700.0                         2.0   \n",
      "1                     NaN              1172700.0                         2.0   \n",
      "2                     NaN              1172401.0                         6.0   \n",
      "3                     NaN              1172401.0                         6.0   \n",
      "4                     NaN              1172620.0                         2.0   \n",
      "\n",
      "   Task list number  Picklist number  Picklist line number  \n",
      "0          193893.0          2126751                     1  \n",
      "1          193893.0          2126751                     1  \n",
      "2          193893.0          2126162                     6  \n",
      "3          193893.0          2126162                     6  \n",
      "4          193893.0          2126570                     2  \n"
     ]
    }
   ],
   "source": [
    "import pandas as pd\n",
    "\n",
    "df = pd.read_excel(\"./data/anon_WMSPick20250101_03.xlsx\")\n",
    "\n",
    "print(df.head())"
   ]
  }
 ],
 "metadata": {
  "kernelspec": {
   "display_name": "venv",
   "language": "python",
   "name": "python3"
  },
  "language_info": {
   "codemirror_mode": {
    "name": "ipython",
    "version": 3
   },
   "file_extension": ".py",
   "mimetype": "text/x-python",
   "name": "python",
   "nbconvert_exporter": "python",
   "pygments_lexer": "ipython3",
   "version": "3.12.8"
  }
 },
 "nbformat": 4,
 "nbformat_minor": 2
}
